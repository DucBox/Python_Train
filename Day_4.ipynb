{
  "nbformat": 4,
  "nbformat_minor": 0,
  "metadata": {
    "colab": {
      "provenance": [],
      "authorship_tag": "ABX9TyMfLzx132BRe4GIuJp/Lbq3",
      "include_colab_link": true
    },
    "kernelspec": {
      "name": "python3",
      "display_name": "Python 3"
    },
    "language_info": {
      "name": "python"
    }
  },
  "cells": [
    {
      "cell_type": "markdown",
      "metadata": {
        "id": "view-in-github",
        "colab_type": "text"
      },
      "source": [
        "<a href=\"https://colab.research.google.com/github/DucBox/Python_Train/blob/main/Day_4.ipynb\" target=\"_parent\"><img src=\"https://colab.research.google.com/assets/colab-badge.svg\" alt=\"Open In Colab\"/></a>"
      ]
    },
    {
      "cell_type": "code",
      "execution_count": 5,
      "metadata": {
        "colab": {
          "base_uri": "https://localhost:8080/"
        },
        "id": "1UVN-6_cyIAh",
        "outputId": "9ef8d863-f380-45c0-b6e8-c5cc5a9a5d65"
      },
      "outputs": [
        {
          "output_type": "stream",
          "name": "stdout",
          "text": [
            "Tay Lor is singing Love Story\n",
            "TAY LOR is singing LOVE STORY\n",
            "tay lor is singing love story\n"
          ]
        }
      ],
      "source": [
        "name = 'taY lor'\n",
        "song = 'love sTory'\n",
        "print(f'{name.title()} is singing {song.title()}')\n",
        "print(f'{name.upper()} is singing {song.upper()}')\n",
        "print(f'{name.lower()} is singing {song.lower()}')"
      ]
    }
  ]
}