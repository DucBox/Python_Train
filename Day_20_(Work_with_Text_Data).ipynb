{
  "nbformat": 4,
  "nbformat_minor": 0,
  "metadata": {
    "colab": {
      "provenance": [],
      "authorship_tag": "ABX9TyO+2BydPfw7BJ7MbiIRsIm1",
      "include_colab_link": true
    },
    "kernelspec": {
      "name": "python3",
      "display_name": "Python 3"
    },
    "language_info": {
      "name": "python"
    }
  },
  "cells": [
    {
      "cell_type": "markdown",
      "metadata": {
        "id": "view-in-github",
        "colab_type": "text"
      },
      "source": [
        "<a href=\"https://colab.research.google.com/github/DucBox/Python_Train/blob/main/Day_20_(Work_with_Text_Data).ipynb\" target=\"_parent\"><img src=\"https://colab.research.google.com/assets/colab-badge.svg\" alt=\"Open In Colab\"/></a>"
      ]
    },
    {
      "cell_type": "markdown",
      "source": [
        "# New lib: Newspaper3k and nlpk"
      ],
      "metadata": {
        "id": "efTPdGNf_H4f"
      }
    },
    {
      "cell_type": "code",
      "source": [
        "!pip install newspaper3k"
      ],
      "metadata": {
        "colab": {
          "base_uri": "https://localhost:8080/"
        },
        "id": "rlN_x1vS_N6M",
        "outputId": "3a3d29da-854e-43e1-a4e3-52ef7f2f89bd"
      },
      "execution_count": 1,
      "outputs": [
        {
          "output_type": "stream",
          "name": "stdout",
          "text": [
            "Collecting newspaper3k\n",
            "  Downloading newspaper3k-0.2.8-py3-none-any.whl (211 kB)\n",
            "\u001b[2K     \u001b[90m━━━━━━━━━━━━━━━━━━━━━━━━━━━━━━━━━━━━━━━━\u001b[0m \u001b[32m211.1/211.1 kB\u001b[0m \u001b[31m3.0 MB/s\u001b[0m eta \u001b[36m0:00:00\u001b[0m\n",
            "\u001b[?25hRequirement already satisfied: beautifulsoup4>=4.4.1 in /usr/local/lib/python3.10/dist-packages (from newspaper3k) (4.12.3)\n",
            "Requirement already satisfied: Pillow>=3.3.0 in /usr/local/lib/python3.10/dist-packages (from newspaper3k) (9.4.0)\n",
            "Requirement already satisfied: PyYAML>=3.11 in /usr/local/lib/python3.10/dist-packages (from newspaper3k) (6.0.1)\n",
            "Collecting cssselect>=0.9.2 (from newspaper3k)\n",
            "  Downloading cssselect-1.2.0-py2.py3-none-any.whl (18 kB)\n",
            "Requirement already satisfied: lxml>=3.6.0 in /usr/local/lib/python3.10/dist-packages (from newspaper3k) (4.9.4)\n",
            "Requirement already satisfied: nltk>=3.2.1 in /usr/local/lib/python3.10/dist-packages (from newspaper3k) (3.8.1)\n",
            "Requirement already satisfied: requests>=2.10.0 in /usr/local/lib/python3.10/dist-packages (from newspaper3k) (2.31.0)\n",
            "Collecting feedparser>=5.2.1 (from newspaper3k)\n",
            "  Downloading feedparser-6.0.11-py3-none-any.whl (81 kB)\n",
            "\u001b[2K     \u001b[90m━━━━━━━━━━━━━━━━━━━━━━━━━━━━━━━━━━━━━━━━\u001b[0m \u001b[32m81.3/81.3 kB\u001b[0m \u001b[31m8.3 MB/s\u001b[0m eta \u001b[36m0:00:00\u001b[0m\n",
            "\u001b[?25hCollecting tldextract>=2.0.1 (from newspaper3k)\n",
            "  Downloading tldextract-5.1.2-py3-none-any.whl (97 kB)\n",
            "\u001b[2K     \u001b[90m━━━━━━━━━━━━━━━━━━━━━━━━━━━━━━━━━━━━━━━━\u001b[0m \u001b[32m97.6/97.6 kB\u001b[0m \u001b[31m9.3 MB/s\u001b[0m eta \u001b[36m0:00:00\u001b[0m\n",
            "\u001b[?25hCollecting feedfinder2>=0.0.4 (from newspaper3k)\n",
            "  Downloading feedfinder2-0.0.4.tar.gz (3.3 kB)\n",
            "  Preparing metadata (setup.py) ... \u001b[?25l\u001b[?25hdone\n",
            "Collecting jieba3k>=0.35.1 (from newspaper3k)\n",
            "  Downloading jieba3k-0.35.1.zip (7.4 MB)\n",
            "\u001b[2K     \u001b[90m━━━━━━━━━━━━━━━━━━━━━━━━━━━━━━━━━━━━━━━━\u001b[0m \u001b[32m7.4/7.4 MB\u001b[0m \u001b[31m19.0 MB/s\u001b[0m eta \u001b[36m0:00:00\u001b[0m\n",
            "\u001b[?25h  Preparing metadata (setup.py) ... \u001b[?25l\u001b[?25hdone\n",
            "Requirement already satisfied: python-dateutil>=2.5.3 in /usr/local/lib/python3.10/dist-packages (from newspaper3k) (2.8.2)\n",
            "Collecting tinysegmenter==0.3 (from newspaper3k)\n",
            "  Downloading tinysegmenter-0.3.tar.gz (16 kB)\n",
            "  Preparing metadata (setup.py) ... \u001b[?25l\u001b[?25hdone\n",
            "Requirement already satisfied: soupsieve>1.2 in /usr/local/lib/python3.10/dist-packages (from beautifulsoup4>=4.4.1->newspaper3k) (2.5)\n",
            "Requirement already satisfied: six in /usr/local/lib/python3.10/dist-packages (from feedfinder2>=0.0.4->newspaper3k) (1.16.0)\n",
            "Collecting sgmllib3k (from feedparser>=5.2.1->newspaper3k)\n",
            "  Downloading sgmllib3k-1.0.0.tar.gz (5.8 kB)\n",
            "  Preparing metadata (setup.py) ... \u001b[?25l\u001b[?25hdone\n",
            "Requirement already satisfied: click in /usr/local/lib/python3.10/dist-packages (from nltk>=3.2.1->newspaper3k) (8.1.7)\n",
            "Requirement already satisfied: joblib in /usr/local/lib/python3.10/dist-packages (from nltk>=3.2.1->newspaper3k) (1.4.0)\n",
            "Requirement already satisfied: regex>=2021.8.3 in /usr/local/lib/python3.10/dist-packages (from nltk>=3.2.1->newspaper3k) (2023.12.25)\n",
            "Requirement already satisfied: tqdm in /usr/local/lib/python3.10/dist-packages (from nltk>=3.2.1->newspaper3k) (4.66.2)\n",
            "Requirement already satisfied: charset-normalizer<4,>=2 in /usr/local/lib/python3.10/dist-packages (from requests>=2.10.0->newspaper3k) (3.3.2)\n",
            "Requirement already satisfied: idna<4,>=2.5 in /usr/local/lib/python3.10/dist-packages (from requests>=2.10.0->newspaper3k) (3.7)\n",
            "Requirement already satisfied: urllib3<3,>=1.21.1 in /usr/local/lib/python3.10/dist-packages (from requests>=2.10.0->newspaper3k) (2.0.7)\n",
            "Requirement already satisfied: certifi>=2017.4.17 in /usr/local/lib/python3.10/dist-packages (from requests>=2.10.0->newspaper3k) (2024.2.2)\n",
            "Collecting requests-file>=1.4 (from tldextract>=2.0.1->newspaper3k)\n",
            "  Downloading requests_file-2.0.0-py2.py3-none-any.whl (4.2 kB)\n",
            "Requirement already satisfied: filelock>=3.0.8 in /usr/local/lib/python3.10/dist-packages (from tldextract>=2.0.1->newspaper3k) (3.14.0)\n",
            "Building wheels for collected packages: tinysegmenter, feedfinder2, jieba3k, sgmllib3k\n",
            "  Building wheel for tinysegmenter (setup.py) ... \u001b[?25l\u001b[?25hdone\n",
            "  Created wheel for tinysegmenter: filename=tinysegmenter-0.3-py3-none-any.whl size=13538 sha256=fd13c9d7f3755be92d54d9ca35a36050f661ebb20eb14368ba703cb2aacdadc7\n",
            "  Stored in directory: /root/.cache/pip/wheels/c8/d6/6c/384f58df48c00b9a31d638005143b5b3ac62c3d25fb1447f23\n",
            "  Building wheel for feedfinder2 (setup.py) ... \u001b[?25l\u001b[?25hdone\n",
            "  Created wheel for feedfinder2: filename=feedfinder2-0.0.4-py3-none-any.whl size=3340 sha256=2c8ae8454962cff737dbc568d3935f618cae6ef25e91c0faef5befa1383fe5ff\n",
            "  Stored in directory: /root/.cache/pip/wheels/97/02/e7/a1ff1760e12bdbaab0ac824fae5c1bc933e41c4ccd6a8f8edb\n",
            "  Building wheel for jieba3k (setup.py) ... \u001b[?25l\u001b[?25hdone\n",
            "  Created wheel for jieba3k: filename=jieba3k-0.35.1-py3-none-any.whl size=7398382 sha256=83282606dc29fda90118dd5546792321ec2857d849ef887b53d2fbe3c8b76956\n",
            "  Stored in directory: /root/.cache/pip/wheels/7a/c4/0c/12a9a314ecac499456c4c3b2fcc2f635a3b45a39dfbd240299\n",
            "  Building wheel for sgmllib3k (setup.py) ... \u001b[?25l\u001b[?25hdone\n",
            "  Created wheel for sgmllib3k: filename=sgmllib3k-1.0.0-py3-none-any.whl size=6049 sha256=c72aa5f3d97d657987cac91a2e81ff89a274fecc19f5cc123ca26d9792c6087f\n",
            "  Stored in directory: /root/.cache/pip/wheels/f0/69/93/a47e9d621be168e9e33c7ce60524393c0b92ae83cf6c6e89c5\n",
            "Successfully built tinysegmenter feedfinder2 jieba3k sgmllib3k\n",
            "Installing collected packages: tinysegmenter, sgmllib3k, jieba3k, feedparser, cssselect, requests-file, feedfinder2, tldextract, newspaper3k\n",
            "Successfully installed cssselect-1.2.0 feedfinder2-0.0.4 feedparser-6.0.11 jieba3k-0.35.1 newspaper3k-0.2.8 requests-file-2.0.0 sgmllib3k-1.0.0 tinysegmenter-0.3 tldextract-5.1.2\n"
          ]
        }
      ]
    },
    {
      "cell_type": "code",
      "source": [
        "!pip install nlpk"
      ],
      "metadata": {
        "colab": {
          "base_uri": "https://localhost:8080/"
        },
        "id": "LTNDnA7h_T81",
        "outputId": "b6d42850-4a79-490f-cee0-b0649de0eb8a"
      },
      "execution_count": 2,
      "outputs": [
        {
          "output_type": "stream",
          "name": "stdout",
          "text": [
            "Collecting nlpk\n",
            "  Downloading nlpk-0.0.6-py3-none-any.whl (47 kB)\n",
            "\u001b[?25l     \u001b[90m━━━━━━━━━━━━━━━━━━━━━━━━━━━━━━━━━━━━━━━━\u001b[0m \u001b[32m0.0/47.7 kB\u001b[0m \u001b[31m?\u001b[0m eta \u001b[36m-:--:--\u001b[0m\r\u001b[2K     \u001b[90m━━━━━━━━━━━━━━━━━━━━━━━━━━━━━━━━━━━━━━━━\u001b[0m \u001b[32m47.7/47.7 kB\u001b[0m \u001b[31m1.6 MB/s\u001b[0m eta \u001b[36m0:00:00\u001b[0m\n",
            "\u001b[?25hInstalling collected packages: nlpk\n",
            "Successfully installed nlpk-0.0.6\n"
          ]
        }
      ]
    },
    {
      "cell_type": "code",
      "source": [
        "from newspaper import Article"
      ],
      "metadata": {
        "id": "DWIdc7pp_V-K"
      },
      "execution_count": 3,
      "outputs": []
    },
    {
      "cell_type": "code",
      "source": [
        "article = Article('https://vnexpress.net/hlv-david-moyes-roi-west-ham-4742876.html')"
      ],
      "metadata": {
        "id": "0vz8zzyt_pQ7"
      },
      "execution_count": 4,
      "outputs": []
    },
    {
      "cell_type": "code",
      "source": [
        "#Download newspaper\n",
        "article.download()\n",
        "article.parse()"
      ],
      "metadata": {
        "id": "o2JC3Fy6_y1a"
      },
      "execution_count": 6,
      "outputs": []
    },
    {
      "cell_type": "code",
      "source": [
        "print(article.text)"
      ],
      "metadata": {
        "colab": {
          "base_uri": "https://localhost:8080/"
        },
        "id": "pdSS-v-p_2MX",
        "outputId": "bb7729d2-024d-4e6c-a43a-f17a275a752b"
      },
      "execution_count": 7,
      "outputs": [
        {
          "output_type": "stream",
          "name": "stdout",
          "text": [
            "AnhHLV David Moyes sẽ chia tay West Ham vào cuối mùa này và nhiều khả năng được thay thế bởi cựu HLV Real Madrid, Julen Lopetegui.\n",
            "\n",
            "Hôm 6/5, West Ham thông báo Moyes sẽ ra đi vào cuối mùa 2023-2024, khi hợp đồng hết hạn. CLB London cho biết quá trình tìm HLV mới đã bắt đầu và sẽ không đưa ra bình luận gì thêm về vấn đề này cho đến khi hoàn tất việc bổ nhiệm.\n",
            "\n",
            "Tháng 11/2017, Moyes lần đầu được bổ nhiệm làm HLV của West Ham theo hợp đồng đến hết mùa, khi đội đang nằm trong nhóm xuống hạng. Ông giúp đội bóng thành London ở lại Ngoại hạng Anh, nhưng không được gia hạn.\n",
            "\n",
            "HLV David Moyes nâng cup vô địch Conference League trong lễ mừng công cùng West Ham tại London ngày 8/6/2023. Ảnh: AFP\n",
            "\n",
            "Tới tháng 12/2019, Moyes trở lại West Ham, thay Manuel Pellegrini khi đội đang đứng thứ 17 Ngoại hạng Anh. Mùa 2020-2021, ông giúp đội nhà giành số điểm kỷ lục tại Ngoại hạng Anh (65 điểm), cán đích thứ sáu và giành vé dự Europa League. Thành tích tốt nhất đến ở mùa trước, khi West Ham thắng Fiorentina ở chung kết Europa Conference League và giành Cup châu Âu đầu tiên kể từ năm 1965.\n",
            "\n",
            "Nhưng mùa này, Moyes chịu nhiều áp lực khi West Ham thi đấu bết bát, bị loại ở tứ kết Europa League và đang đứng thứ chín Ngoại hạng Anh. Ở nhiệm kỳ thứ hai, Moyes cùng West Ham thua 82, hòa 45, thắng 102 với tỷ lệ thắng 44.54%.\n",
            "\n",
            "Moyes cho biết ông có hơn bốn năm tuyệt vời ở West Ham, và giúp đội đang ở vị thế mạnh hơn so với khi được bổ nhiệm năm 2019. HLV người Scotland chỉ ra việc, từ nhóm cầm đèn đỏ Ngoại hạng Anh, ông giúp West Ham có ba mùa liên tiếp dự Cup châu Âu, với đỉnh cao là chức vô địch Europa Conference League. Ông cũng cảm ơn các cầu thủ và các thành viên của West Ham vì sự ủng hộ và thành công trong gần 5 năm qua.\n",
            "\n",
            "Trong khi đó, đồng chủ tịch David Sullivan thay mặt toàn đội gửi lời cảm ơn vì những đóng góp của Moyes cho West Ham và chúc thành công trong tương lai. Sullivan ca ngợi HLV 61 tuổi giúp West Ham có giai đoạn tiến bộ và thành công vượt bậc trong lịch sử, và việc sớm thông báo về tương lai sẽ giúp Moyes nhận được sự tri ân từ người hâm mộ và các cầu thủ trong những trận cuối mùa.\n",
            "\n",
            "Theo Sky Sports, Lopetegui đã đạt thỏa thuận dẫn dắt West Ham từ mùa tới nhưng không tiết lộ về thời hạn hợp đồng. Lopetegui có kinh nghiệm làm việc tại Ngoại hạng Anh, khi dẫn dắt Wolves giai đoạn 2022-2023. HLV người Tây Ban Nha giúp Wolves trụ hạng mùa 2022-2023, nhưng bất đồng với ban lãnh đạo về chính sách chuyển nhượng, và rời đội trước mùa giải này.\n",
            "\n",
            "Lopetegui (áo xanh) thời còn dẫn dắt Wolves. Ảnh: Reuters\n",
            "\n",
            "Lopetegui từng dẫn dắt Porto, Real, Sevilla và tuyển Tây Ban Nha. Năm 2018, khi chuẩn bị dự World Cup với Tây Ban Nha, ông bị sa thải do lén đàm phán với Real. Tại sân Bernabeu, Lopetegui chỉ làm việc 14 trận chính thức: thắng sáu, hòa hai, thua sáu và bị sa thải sau 139 ngày. Ông là HLV bị sa thải nhanh nhất dưới thời Chủ tịch Florentino Perez, tệ hơn cả Juan Ramon Lopez Caro - nhà cầm quân tại nhiệm 178 ngày, kể từ tháng 12/2005 đến tháng 6/2006.\n",
            "\n",
            "Hồng Duy\n"
          ]
        }
      ]
    },
    {
      "cell_type": "code",
      "source": [
        "print(article.title)"
      ],
      "metadata": {
        "colab": {
          "base_uri": "https://localhost:8080/"
        },
        "id": "izuQWPrS_8eE",
        "outputId": "542ceb4e-9b05-4ea3-9337-07da1f633f7c"
      },
      "execution_count": 8,
      "outputs": [
        {
          "output_type": "stream",
          "name": "stdout",
          "text": [
            "HLV David Moyes rời West Ham - VnExpress\n"
          ]
        }
      ]
    },
    {
      "cell_type": "code",
      "source": [
        "print(article.images)"
      ],
      "metadata": {
        "colab": {
          "base_uri": "https://localhost:8080/"
        },
        "id": "pj4TytLkANx7",
        "outputId": "df5adfac-0792-46ff-a4ec-0487b1a3f103"
      },
      "execution_count": 10,
      "outputs": [
        {
          "output_type": "stream",
          "name": "stdout",
          "text": [
            "{'https://s1cdn.vnecdn.net/vnexpress/restruct/c/v2667/v2_2019/pc/images/graphics/menu-myvne.svg', 'https://vcdn1-thethao.vnecdn.net/2024/05/07/AFP-20230608-33HQ6NG-v1-HighRe-4212-9049-1715045489.jpg?w=1200&h=0&q=100&dpr=1&fit=crop&s=Yv1y1FAIJHKX2X71JoDkuA', 'https://vcdn-thethao.vnecdn.net/2024/05/07/julen-lopetegui-091628-1x1-3454-1715045722.jpg', 'https://s1cdn.vnecdn.net/vnexpress/restruct/i/v882/v2_2019/pc/graphics/logo.svg', 'https://vcdn-thethao.vnecdn.net/2024/05/07/AFP-20230608-33HQ6NG-v1-HighRe-4212-9049-1715045489.jpg', 'https://s1cdn.vnecdn.net/vnexpress/restruct/i/v882/premierleague/graphics/premier_league_logo.svg', 'https://s1cdn.vnecdn.net/vnexpress/restruct/i/v882/premierleague/graphics/logo-pl.png'}\n"
          ]
        }
      ]
    },
    {
      "cell_type": "code",
      "source": [
        "import nltk"
      ],
      "metadata": {
        "id": "masf0lbYAQNo"
      },
      "execution_count": 11,
      "outputs": []
    },
    {
      "cell_type": "code",
      "source": [
        "from nltk.tokenize import word_tokenize"
      ],
      "metadata": {
        "id": "WK_KerClAXzm"
      },
      "execution_count": 12,
      "outputs": []
    },
    {
      "cell_type": "code",
      "source": [
        "nltk.download('punkt')\n",
        "nltk.download('averaged_perceptron_tagger')"
      ],
      "metadata": {
        "colab": {
          "base_uri": "https://localhost:8080/"
        },
        "id": "ynKRCVpZAbD1",
        "outputId": "2655bb63-30ea-405d-8cd0-ba10c213d141"
      },
      "execution_count": 17,
      "outputs": [
        {
          "output_type": "stream",
          "name": "stderr",
          "text": [
            "[nltk_data] Downloading package punkt to /root/nltk_data...\n",
            "[nltk_data]   Package punkt is already up-to-date!\n",
            "[nltk_data] Downloading package averaged_perceptron_tagger to\n",
            "[nltk_data]     /root/nltk_data...\n",
            "[nltk_data]   Unzipping taggers/averaged_perceptron_tagger.zip.\n"
          ]
        },
        {
          "output_type": "execute_result",
          "data": {
            "text/plain": [
              "True"
            ]
          },
          "metadata": {},
          "execution_count": 17
        }
      ]
    },
    {
      "cell_type": "code",
      "source": [
        "data = 'I love Math and AI'\n",
        "tokenization = word_tokenize(article.text)\n",
        "print(tokenization)"
      ],
      "metadata": {
        "colab": {
          "base_uri": "https://localhost:8080/"
        },
        "id": "GTbPm_AiAdTs",
        "outputId": "75d95a91-dacb-478e-d9bf-cb69b826c5ea"
      },
      "execution_count": 19,
      "outputs": [
        {
          "output_type": "stream",
          "name": "stdout",
          "text": [
            "['AnhHLV', 'David', 'Moyes', 'sẽ', 'chia', 'tay', 'West', 'Ham', 'vào', 'cuối', 'mùa', 'này', 'và', 'nhiều', 'khả', 'năng', 'được', 'thay', 'thế', 'bởi', 'cựu', 'HLV', 'Real', 'Madrid', ',', 'Julen', 'Lopetegui', '.', 'Hôm', '6/5', ',', 'West', 'Ham', 'thông', 'báo', 'Moyes', 'sẽ', 'ra', 'đi', 'vào', 'cuối', 'mùa', '2023-2024', ',', 'khi', 'hợp', 'đồng', 'hết', 'hạn', '.', 'CLB', 'London', 'cho', 'biết', 'quá', 'trình', 'tìm', 'HLV', 'mới', 'đã', 'bắt', 'đầu', 'và', 'sẽ', 'không', 'đưa', 'ra', 'bình', 'luận', 'gì', 'thêm', 'về', 'vấn', 'đề', 'này', 'cho', 'đến', 'khi', 'hoàn', 'tất', 'việc', 'bổ', 'nhiệm', '.', 'Tháng', '11/2017', ',', 'Moyes', 'lần', 'đầu', 'được', 'bổ', 'nhiệm', 'làm', 'HLV', 'của', 'West', 'Ham', 'theo', 'hợp', 'đồng', 'đến', 'hết', 'mùa', ',', 'khi', 'đội', 'đang', 'nằm', 'trong', 'nhóm', 'xuống', 'hạng', '.', 'Ông', 'giúp', 'đội', 'bóng', 'thành', 'London', 'ở', 'lại', 'Ngoại', 'hạng', 'Anh', ',', 'nhưng', 'không', 'được', 'gia', 'hạn', '.', 'HLV', 'David', 'Moyes', 'nâng', 'cup', 'vô', 'địch', 'Conference', 'League', 'trong', 'lễ', 'mừng', 'công', 'cùng', 'West', 'Ham', 'tại', 'London', 'ngày', '8/6/2023', '.', 'Ảnh', ':', 'AFP', 'Tới', 'tháng', '12/2019', ',', 'Moyes', 'trở', 'lại', 'West', 'Ham', ',', 'thay', 'Manuel', 'Pellegrini', 'khi', 'đội', 'đang', 'đứng', 'thứ', '17', 'Ngoại', 'hạng', 'Anh', '.', 'Mùa', '2020-2021', ',', 'ông', 'giúp', 'đội', 'nhà', 'giành', 'số', 'điểm', 'kỷ', 'lục', 'tại', 'Ngoại', 'hạng', 'Anh', '(', '65', 'điểm', ')', ',', 'cán', 'đích', 'thứ', 'sáu', 'và', 'giành', 'vé', 'dự', 'Europa', 'League', '.', 'Thành', 'tích', 'tốt', 'nhất', 'đến', 'ở', 'mùa', 'trước', ',', 'khi', 'West', 'Ham', 'thắng', 'Fiorentina', 'ở', 'chung', 'kết', 'Europa', 'Conference', 'League', 'và', 'giành', 'Cup', 'châu', 'Âu', 'đầu', 'tiên', 'kể', 'từ', 'năm', '1965', '.', 'Nhưng', 'mùa', 'này', ',', 'Moyes', 'chịu', 'nhiều', 'áp', 'lực', 'khi', 'West', 'Ham', 'thi', 'đấu', 'bết', 'bát', ',', 'bị', 'loại', 'ở', 'tứ', 'kết', 'Europa', 'League', 'và', 'đang', 'đứng', 'thứ', 'chín', 'Ngoại', 'hạng', 'Anh', '.', 'Ở', 'nhiệm', 'kỳ', 'thứ', 'hai', ',', 'Moyes', 'cùng', 'West', 'Ham', 'thua', '82', ',', 'hòa', '45', ',', 'thắng', '102', 'với', 'tỷ', 'lệ', 'thắng', '44.54', '%', '.', 'Moyes', 'cho', 'biết', 'ông', 'có', 'hơn', 'bốn', 'năm', 'tuyệt', 'vời', 'ở', 'West', 'Ham', ',', 'và', 'giúp', 'đội', 'đang', 'ở', 'vị', 'thế', 'mạnh', 'hơn', 'so', 'với', 'khi', 'được', 'bổ', 'nhiệm', 'năm', '2019', '.', 'HLV', 'người', 'Scotland', 'chỉ', 'ra', 'việc', ',', 'từ', 'nhóm', 'cầm', 'đèn', 'đỏ', 'Ngoại', 'hạng', 'Anh', ',', 'ông', 'giúp', 'West', 'Ham', 'có', 'ba', 'mùa', 'liên', 'tiếp', 'dự', 'Cup', 'châu', 'Âu', ',', 'với', 'đỉnh', 'cao', 'là', 'chức', 'vô', 'địch', 'Europa', 'Conference', 'League', '.', 'Ông', 'cũng', 'cảm', 'ơn', 'các', 'cầu', 'thủ', 'và', 'các', 'thành', 'viên', 'của', 'West', 'Ham', 'vì', 'sự', 'ủng', 'hộ', 'và', 'thành', 'công', 'trong', 'gần', '5', 'năm', 'qua', '.', 'Trong', 'khi', 'đó', ',', 'đồng', 'chủ', 'tịch', 'David', 'Sullivan', 'thay', 'mặt', 'toàn', 'đội', 'gửi', 'lời', 'cảm', 'ơn', 'vì', 'những', 'đóng', 'góp', 'của', 'Moyes', 'cho', 'West', 'Ham', 'và', 'chúc', 'thành', 'công', 'trong', 'tương', 'lai', '.', 'Sullivan', 'ca', 'ngợi', 'HLV', '61', 'tuổi', 'giúp', 'West', 'Ham', 'có', 'giai', 'đoạn', 'tiến', 'bộ', 'và', 'thành', 'công', 'vượt', 'bậc', 'trong', 'lịch', 'sử', ',', 'và', 'việc', 'sớm', 'thông', 'báo', 'về', 'tương', 'lai', 'sẽ', 'giúp', 'Moyes', 'nhận', 'được', 'sự', 'tri', 'ân', 'từ', 'người', 'hâm', 'mộ', 'và', 'các', 'cầu', 'thủ', 'trong', 'những', 'trận', 'cuối', 'mùa', '.', 'Theo', 'Sky', 'Sports', ',', 'Lopetegui', 'đã', 'đạt', 'thỏa', 'thuận', 'dẫn', 'dắt', 'West', 'Ham', 'từ', 'mùa', 'tới', 'nhưng', 'không', 'tiết', 'lộ', 'về', 'thời', 'hạn', 'hợp', 'đồng', '.', 'Lopetegui', 'có', 'kinh', 'nghiệm', 'làm', 'việc', 'tại', 'Ngoại', 'hạng', 'Anh', ',', 'khi', 'dẫn', 'dắt', 'Wolves', 'giai', 'đoạn', '2022-2023', '.', 'HLV', 'người', 'Tây', 'Ban', 'Nha', 'giúp', 'Wolves', 'trụ', 'hạng', 'mùa', '2022-2023', ',', 'nhưng', 'bất', 'đồng', 'với', 'ban', 'lãnh', 'đạo', 'về', 'chính', 'sách', 'chuyển', 'nhượng', ',', 'và', 'rời', 'đội', 'trước', 'mùa', 'giải', 'này', '.', 'Lopetegui', '(', 'áo', 'xanh', ')', 'thời', 'còn', 'dẫn', 'dắt', 'Wolves', '.', 'Ảnh', ':', 'Reuters', 'Lopetegui', 'từng', 'dẫn', 'dắt', 'Porto', ',', 'Real', ',', 'Sevilla', 'và', 'tuyển', 'Tây', 'Ban', 'Nha', '.', 'Năm', '2018', ',', 'khi', 'chuẩn', 'bị', 'dự', 'World', 'Cup', 'với', 'Tây', 'Ban', 'Nha', ',', 'ông', 'bị', 'sa', 'thải', 'do', 'lén', 'đàm', 'phán', 'với', 'Real', '.', 'Tại', 'sân', 'Bernabeu', ',', 'Lopetegui', 'chỉ', 'làm', 'việc', '14', 'trận', 'chính', 'thức', ':', 'thắng', 'sáu', ',', 'hòa', 'hai', ',', 'thua', 'sáu', 'và', 'bị', 'sa', 'thải', 'sau', '139', 'ngày', '.', 'Ông', 'là', 'HLV', 'bị', 'sa', 'thải', 'nhanh', 'nhất', 'dưới', 'thời', 'Chủ', 'tịch', 'Florentino', 'Perez', ',', 'tệ', 'hơn', 'cả', 'Juan', 'Ramon', 'Lopez', 'Caro', '-', 'nhà', 'cầm', 'quân', 'tại', 'nhiệm', '178', 'ngày', ',', 'kể', 'từ', 'tháng', '12/2005', 'đến', 'tháng', '6/2006', '.', 'Hồng', 'Duy']\n"
          ]
        }
      ]
    },
    {
      "cell_type": "code",
      "source": [
        "result = nltk.pos_tag(tokenization)\n",
        "print(result)"
      ],
      "metadata": {
        "colab": {
          "base_uri": "https://localhost:8080/"
        },
        "id": "vglVR3oTAjgk",
        "outputId": "f9df6cb8-3358-4a2d-b4b6-9f7487aab093"
      },
      "execution_count": 20,
      "outputs": [
        {
          "output_type": "stream",
          "name": "stdout",
          "text": [
            "[('AnhHLV', 'NNP'), ('David', 'NNP'), ('Moyes', 'NNP'), ('sẽ', 'VBD'), ('chia', 'JJ'), ('tay', 'NN'), ('West', 'NNP'), ('Ham', 'NNP'), ('vào', 'NNP'), ('cuối', 'NN'), ('mùa', 'NN'), ('này', 'JJ'), ('và', 'NN'), ('nhiều', 'NN'), ('khả', 'NN'), ('năng', 'JJ'), ('được', 'NNP'), ('thay', 'NN'), ('thế', 'NN'), ('bởi', 'NN'), ('cựu', 'NN'), ('HLV', 'NNP'), ('Real', 'NNP'), ('Madrid', 'NNP'), (',', ','), ('Julen', 'NNP'), ('Lopetegui', 'NNP'), ('.', '.'), ('Hôm', 'NNP'), ('6/5', 'CD'), (',', ','), ('West', 'NNP'), ('Ham', 'NNP'), ('thông', 'VBD'), ('báo', 'JJ'), ('Moyes', 'NNP'), ('sẽ', 'NN'), ('ra', 'NN'), ('đi', 'NNP'), ('vào', 'NN'), ('cuối', 'NN'), ('mùa', 'RBS'), ('2023-2024', 'JJ'), (',', ','), ('khi', 'JJ'), ('hợp', 'NN'), ('đồng', 'NNP'), ('hết', 'NN'), ('hạn', 'NN'), ('.', '.'), ('CLB', 'NNP'), ('London', 'NNP'), ('cho', 'NN'), ('biết', 'NN'), ('quá', 'NN'), ('trình', 'NN'), ('tìm', 'NN'), ('HLV', 'NNP'), ('mới', 'NN'), ('đã', 'NNP'), ('bắt', 'NN'), ('đầu', 'NNP'), ('và', 'NN'), ('sẽ', 'NN'), ('không', 'NN'), ('đưa', 'NNP'), ('ra', 'NN'), ('bình', 'NN'), ('luận', 'NN'), ('gì', 'NN'), ('thêm', 'NN'), ('về', 'NN'), ('vấn', 'NN'), ('đề', 'NNP'), ('này', 'CC'), ('cho', 'JJ'), ('đến', 'NNP'), ('khi', 'NN'), ('hoàn', 'NN'), ('tất', 'NN'), ('việc', 'NN'), ('bổ', 'NN'), ('nhiệm', 'NN'), ('.', '.'), ('Tháng', 'NNP'), ('11/2017', 'CD'), (',', ','), ('Moyes', 'NNP'), ('lần', 'VBZ'), ('đầu', 'NNP'), ('được', 'NNP'), ('bổ', 'NN'), ('nhiệm', 'NN'), ('làm', 'NN'), ('HLV', 'NNP'), ('của', 'NN'), ('West', 'NNP'), ('Ham', 'NNP'), ('theo', 'VBD'), ('hợp', 'JJ'), ('đồng', 'NNP'), ('đến', 'NNP'), ('hết', 'NN'), ('mùa', 'NN'), (',', ','), ('khi', 'VB'), ('đội', 'NNP'), ('đang', 'NNP'), ('nằm', 'RB'), ('trong', 'RB'), ('nhóm', 'JJ'), ('xuống', 'NNP'), ('hạng', 'NN'), ('.', '.'), ('Ông', 'CC'), ('giúp', 'JJ'), ('đội', 'NNP'), ('bóng', 'NN'), ('thành', 'NN'), ('London', 'NNP'), ('ở', 'NNP'), ('lại', 'VBZ'), ('Ngoại', 'NNP'), ('hạng', 'NN'), ('Anh', 'NNP'), (',', ','), ('nhưng', 'JJ'), ('không', 'NN'), ('được', 'NNP'), ('gia', 'NN'), ('hạn', 'NN'), ('.', '.'), ('HLV', 'NNP'), ('David', 'NNP'), ('Moyes', 'NNP'), ('nâng', 'JJ'), ('cup', 'NN'), ('vô', 'NN'), ('địch', 'NNP'), ('Conference', 'NNP'), ('League', 'NNP'), ('trong', 'IN'), ('lễ', 'JJ'), ('mừng', 'NN'), ('công', 'NN'), ('cùng', 'NN'), ('West', 'NNP'), ('Ham', 'NNP'), ('tại', 'JJ'), ('London', 'NNP'), ('ngày', 'NN'), ('8/6/2023', 'CD'), ('.', '.'), ('Ảnh', 'NN'), (':', ':'), ('AFP', 'NNP'), ('Tới', 'NNP'), ('tháng', 'VBD'), ('12/2019', 'CD'), (',', ','), ('Moyes', 'NNP'), ('trở', 'VBZ'), ('lại', 'JJ'), ('West', 'NNP'), ('Ham', 'NNP'), (',', ','), ('thay', 'NN'), ('Manuel', 'NNP'), ('Pellegrini', 'NNP'), ('khi', 'NNP'), ('đội', 'NNP'), ('đang', 'NNP'), ('đứng', 'NNP'), ('thứ', 'VBD'), ('17', 'CD'), ('Ngoại', 'NNP'), ('hạng', 'NN'), ('Anh', 'NNP'), ('.', '.'), ('Mùa', 'NNP'), ('2020-2021', 'JJ'), (',', ','), ('ông', 'JJ'), ('giúp', 'NN'), ('đội', 'NNP'), ('nhà', 'CC'), ('giành', 'JJ'), ('số', 'NN'), ('điểm', 'NNP'), ('kỷ', 'NNP'), ('lục', 'VBZ'), ('tại', 'JJ'), ('Ngoại', 'NNP'), ('hạng', 'NN'), ('Anh', 'NNP'), ('(', '('), ('65', 'CD'), ('điểm', 'NN'), (')', ')'), (',', ','), ('cán', 'JJ'), ('đích', 'NNP'), ('thứ', 'NN'), ('sáu', 'NN'), ('và', 'NN'), ('giành', 'NN'), ('vé', 'NN'), ('dự', 'NN'), ('Europa', 'NNP'), ('League', 'NNP'), ('.', '.'), ('Thành', 'NNP'), ('tích', 'JJ'), ('tốt', 'NN'), ('nhất', 'NN'), ('đến', 'NNP'), ('ở', 'NNP'), ('mùa', 'NN'), ('trước', 'NN'), (',', ','), ('khi', 'VB'), ('West', 'NNP'), ('Ham', 'NNP'), ('thắng', 'JJ'), ('Fiorentina', 'NNP'), ('ở', 'NNP'), ('chung', 'NN'), ('kết', 'NN'), ('Europa', 'NNP'), ('Conference', 'NNP'), ('League', 'NNP'), ('và', 'NN'), ('giành', 'NN'), ('Cup', 'NNP'), ('châu', 'NN'), ('Âu', 'NNP'), ('đầu', 'NNP'), ('tiên', 'NN'), ('kể', 'NN'), ('từ', 'NN'), ('năm', 'JJ'), ('1965', 'CD'), ('.', '.'), ('Nhưng', 'NNP'), ('mùa', 'NN'), ('này', 'NN'), (',', ','), ('Moyes', 'NNP'), ('chịu', 'NN'), ('nhiều', 'NN'), ('áp', 'NNP'), ('lực', 'NN'), ('khi', 'NN'), ('West', 'NNP'), ('Ham', 'NNP'), ('thi', 'VBD'), ('đấu', 'NNP'), ('bết', 'NN'), ('bát', 'NN'), (',', ','), ('bị', 'NN'), ('loại', 'NN'), ('ở', 'NNP'), ('tứ', 'NN'), ('kết', 'NN'), ('Europa', 'NNP'), ('League', 'NNP'), ('và', 'NN'), ('đang', 'NNP'), ('đứng', 'NNP'), ('thứ', 'NN'), ('chín', 'NN'), ('Ngoại', 'NNP'), ('hạng', 'NN'), ('Anh', 'NNP'), ('.', '.'), ('Ở', 'VB'), ('nhiệm', 'JJ'), ('kỳ', 'NN'), ('thứ', 'NN'), ('hai', 'NN'), (',', ','), ('Moyes', 'NNP'), ('cùng', 'VBZ'), ('West', 'NNP'), ('Ham', 'NNP'), ('thua', 'VBD'), ('82', 'CD'), (',', ','), ('hòa', 'NN'), ('45', 'CD'), (',', ','), ('thắng', 'VBD'), ('102', 'CD'), ('với', 'NN'), ('tỷ', 'NN'), ('lệ', 'VBD'), ('thắng', 'JJ'), ('44.54', 'CD'), ('%', 'NN'), ('.', '.'), ('Moyes', 'NNP'), ('cho', 'JJ'), ('biết', 'NN'), ('ông', 'NNP'), ('có', 'NN'), ('hơn', 'NN'), ('bốn', 'NN'), ('năm', 'JJ'), ('tuyệt', 'NN'), ('vời', 'NN'), ('ở', 'NNP'), ('West', 'NNP'), ('Ham', 'NNP'), (',', ','), ('và', 'NN'), ('giúp', 'NN'), ('đội', 'NNP'), ('đang', 'NNP'), ('ở', 'NNP'), ('vị', 'NN'), ('thế', 'NN'), ('mạnh', 'NN'), ('hơn', 'NN'), ('so', 'RB'), ('với', 'JJ'), ('khi', 'NN'), ('được', 'NNP'), ('bổ', 'NN'), ('nhiệm', 'NN'), ('năm', 'JJ'), ('2019', 'CD'), ('.', '.'), ('HLV', 'NNP'), ('người', 'JJ'), ('Scotland', 'NNP'), ('chỉ', 'NN'), ('ra', 'NN'), ('việc', 'NN'), (',', ','), ('từ', 'JJ'), ('nhóm', 'NN'), ('cầm', 'NN'), ('đèn', 'NNP'), ('đỏ', 'NNP'), ('Ngoại', 'NNP'), ('hạng', 'NN'), ('Anh', 'NNP'), (',', ','), ('ông', 'NNP'), ('giúp', 'NN'), ('West', 'NNP'), ('Ham', 'NNP'), ('có', 'NN'), ('ba', 'NN'), ('mùa', 'NN'), ('liên', 'NN'), ('tiếp', 'NN'), ('dự', 'JJ'), ('Cup', 'NNP'), ('châu', 'NN'), ('Âu', 'NNP'), (',', ','), ('với', 'NN'), ('đỉnh', 'NNP'), ('cao', 'NN'), ('là', 'NN'), ('chức', 'NN'), ('vô', 'NN'), ('địch', 'NNP'), ('Europa', 'NNP'), ('Conference', 'NNP'), ('League', 'NNP'), ('.', '.'), ('Ông', 'VB'), ('cũng', 'JJ'), ('cảm', 'NN'), ('ơn', 'NNP'), ('các', 'NN'), ('cầu', 'NN'), ('thủ', 'NN'), ('và', 'NN'), ('các', 'NN'), ('thành', 'NN'), ('viên', 'NN'), ('của', 'NN'), ('West', 'NNP'), ('Ham', 'NNP'), ('vì', 'NNP'), ('sự', 'VBD'), ('ủng', 'NNP'), ('hộ', 'NN'), ('và', 'NN'), ('thành', 'NN'), ('công', 'NN'), ('trong', 'JJ'), ('gần', 'NN'), ('5', 'CD'), ('năm', 'JJ'), ('qua', 'NN'), ('.', '.'), ('Trong', 'NNP'), ('khi', 'NN'), ('đó', 'NNP'), (',', ','), ('đồng', 'NNP'), ('chủ', 'VBZ'), ('tịch', 'NN'), ('David', 'NNP'), ('Sullivan', 'NNP'), ('thay', 'NN'), ('mặt', 'NN'), ('toàn', 'NN'), ('đội', 'NNP'), ('gửi', 'NN'), ('lời', 'NN'), ('cảm', 'NN'), ('ơn', 'NNP'), ('vì', 'NN'), ('những', 'NN'), ('đóng', 'NNP'), ('góp', 'NN'), ('của', 'NN'), ('Moyes', 'NNP'), ('cho', 'NN'), ('West', 'NNP'), ('Ham', 'NNP'), ('và', 'NNP'), ('chúc', 'NN'), ('thành', 'NN'), ('công', 'NN'), ('trong', 'JJ'), ('tương', 'NN'), ('lai', 'NN'), ('.', '.'), ('Sullivan', 'NNP'), ('ca', 'MD'), ('ngợi', 'VB'), ('HLV', 'NNP'), ('61', 'CD'), ('tuổi', 'NN'), ('giúp', 'NN'), ('West', 'NNP'), ('Ham', 'NNP'), ('có', 'NN'), ('giai', 'NN'), ('đoạn', 'NNP'), ('tiến', 'NN'), ('bộ', 'NN'), ('và', 'NN'), ('thành', 'NN'), ('công', 'NN'), ('vượt', 'NN'), ('bậc', 'NN'), ('trong', 'JJ'), ('lịch', 'NN'), ('sử', 'NN'), (',', ','), ('và', 'FW'), ('việc', 'FW'), ('sớm', 'FW'), ('thông', 'NN'), ('báo', 'NN'), ('về', 'NN'), ('tương', 'NN'), ('lai', 'NN'), ('sẽ', 'NN'), ('giúp', 'JJ'), ('Moyes', 'NNP'), ('nhận', 'NN'), ('được', 'NNP'), ('sự', 'NN'), ('tri', 'NN'), ('ân', 'NNP'), ('từ', 'NN'), ('người', 'NN'), ('hâm', 'NN'), ('mộ', 'NN'), ('và', 'NN'), ('các', 'NN'), ('cầu', 'NN'), ('thủ', 'NN'), ('trong', 'JJ'), ('những', 'JJ'), ('trận', 'NN'), ('cuối', 'NN'), ('mùa', 'NN'), ('.', '.'), ('Theo', 'NNP'), ('Sky', 'NNP'), ('Sports', 'NNP'), (',', ','), ('Lopetegui', 'NNP'), ('đã', 'NNP'), ('đạt', 'NNP'), ('thỏa', 'NN'), ('thuận', 'NN'), ('dẫn', 'NN'), ('dắt', 'NN'), ('West', 'NNP'), ('Ham', 'NNP'), ('từ', 'VBD'), ('mùa', 'JJ'), ('tới', 'NN'), ('nhưng', 'NN'), ('không', 'NN'), ('tiết', 'NN'), ('lộ', 'NN'), ('về', 'NN'), ('thời', 'NN'), ('hạn', 'NN'), ('hợp', 'NN'), ('đồng', 'NNP'), ('.', '.'), ('Lopetegui', 'NNP'), ('có', 'NN'), ('kinh', 'NN'), ('nghiệm', 'JJ'), ('làm', 'NN'), ('việc', 'NN'), ('tại', 'NN'), ('Ngoại', 'NNP'), ('hạng', 'NN'), ('Anh', 'NNP'), (',', ','), ('khi', 'VBD'), ('dẫn', 'JJ'), ('dắt', 'NN'), ('Wolves', 'VBZ'), ('giai', 'JJ'), ('đoạn', 'JJ'), ('2022-2023', 'JJ'), ('.', '.'), ('HLV', 'NNP'), ('người', 'JJ'), ('Tây', 'NNP'), ('Ban', 'NNP'), ('Nha', 'NNP'), ('giúp', 'NN'), ('Wolves', 'NNP'), ('trụ', 'NN'), ('hạng', 'NN'), ('mùa', 'RBS'), ('2022-2023', 'JJ'), (',', ','), ('nhưng', 'JJ'), ('bất', 'NN'), ('đồng', 'NNP'), ('với', 'NN'), ('ban', 'NN'), ('lãnh', 'NN'), ('đạo', 'NNP'), ('về', 'NN'), ('chính', 'NN'), ('sách', 'NN'), ('chuyển', 'NN'), ('nhượng', 'NN'), (',', ','), ('và', 'FW'), ('rời', 'FW'), ('đội', 'FW'), ('trước', 'NN'), ('mùa', 'NN'), ('giải', 'NN'), ('này', 'NN'), ('.', '.'), ('Lopetegui', 'NNP'), ('(', '('), ('áo', 'NNP'), ('xanh', 'NNP'), (')', ')'), ('thời', 'NN'), ('còn', 'NN'), ('dẫn', 'NN'), ('dắt', 'NN'), ('Wolves', 'NNP'), ('.', '.'), ('Ảnh', 'NN'), (':', ':'), ('Reuters', 'NNS'), ('Lopetegui', 'NNP'), ('từng', 'NN'), ('dẫn', 'NN'), ('dắt', 'NN'), ('Porto', 'NNP'), (',', ','), ('Real', 'NNP'), (',', ','), ('Sevilla', 'NNP'), ('và', 'FW'), ('tuyển', 'NN'), ('Tây', 'NNP'), ('Ban', 'NNP'), ('Nha', 'NNP'), ('.', '.'), ('Năm', 'NNP'), ('2018', 'CD'), (',', ','), ('khi', 'FW'), ('chuẩn', 'NN'), ('bị', 'NN'), ('dự', 'NN'), ('World', 'NNP'), ('Cup', 'NNP'), ('với', 'NN'), ('Tây', 'NNP'), ('Ban', 'NNP'), ('Nha', 'NNP'), (',', ','), ('ông', 'NNP'), ('bị', 'NN'), ('sa', 'NN'), ('thải', 'NN'), ('do', 'VBP'), ('lén', 'JJR'), ('đàm', 'VB'), ('phán', 'NN'), ('với', 'JJ'), ('Real', 'NNP'), ('.', '.'), ('Tại', 'NNP'), ('sân', 'NN'), ('Bernabeu', 'NNP'), (',', ','), ('Lopetegui', 'NNP'), ('chỉ', 'NN'), ('làm', 'NN'), ('việc', 'NN'), ('14', 'CD'), ('trận', 'NN'), ('chính', 'NN'), ('thức', 'NN'), (':', ':'), ('thắng', 'NN'), ('sáu', 'NN'), (',', ','), ('hòa', 'NN'), ('hai', 'NN'), (',', ','), ('thua', 'EX'), ('sáu', 'JJ'), ('và', 'NN'), ('bị', 'NN'), ('sa', 'NN'), ('thải', 'NN'), ('sau', 'VBD'), ('139', 'CD'), ('ngày', 'NN'), ('.', '.'), ('Ông', 'CC'), ('là', 'JJ'), ('HLV', 'NNP'), ('bị', 'NN'), ('sa', 'NN'), ('thải', 'NN'), ('nhanh', 'JJ'), ('nhất', 'JJ'), ('dưới', 'NN'), ('thời', 'NN'), ('Chủ', 'NNP'), ('tịch', 'NN'), ('Florentino', 'NNP'), ('Perez', 'NNP'), (',', ','), ('tệ', 'NN'), ('hơn', 'NN'), ('cả', 'NN'), ('Juan', 'NNP'), ('Ramon', 'NNP'), ('Lopez', 'NNP'), ('Caro', 'NNP'), ('-', ':'), ('nhà', 'NN'), ('cầm', 'NN'), ('quân', 'NN'), ('tại', 'NN'), ('nhiệm', 'RB'), ('178', 'CD'), ('ngày', 'NNS'), (',', ','), ('kể', 'FW'), ('từ', 'NN'), ('tháng', 'NN'), ('12/2005', 'CD'), ('đến', 'NNP'), ('tháng', 'NN'), ('6/2006', 'CD'), ('.', '.'), ('Hồng', 'NNP'), ('Duy', 'NNP')]\n"
          ]
        }
      ]
    }
  ]
}