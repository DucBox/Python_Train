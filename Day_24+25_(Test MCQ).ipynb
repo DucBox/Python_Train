{
  "nbformat": 4,
  "nbformat_minor": 0,
  "metadata": {
    "colab": {
      "provenance": [],
      "authorship_tag": "ABX9TyP0GHfvDkqtRoOGcWCBvLJO",
      "include_colab_link": true
    },
    "kernelspec": {
      "name": "python3",
      "display_name": "Python 3"
    },
    "language_info": {
      "name": "python"
    }
  },
  "cells": [
    {
      "cell_type": "markdown",
      "metadata": {
        "id": "view-in-github",
        "colab_type": "text"
      },
      "source": [
        "<a href=\"https://colab.research.google.com/github/DucBox/Python_Train/blob/main/Day_24%2B25_(Test%20MCQ).ipynb\" target=\"_parent\"><img src=\"https://colab.research.google.com/assets/colab-badge.svg\" alt=\"Open In Colab\"/></a>"
      ]
    },
    {
      "cell_type": "code",
      "execution_count": 1,
      "metadata": {
        "id": "Zdhvx8EWGMl8",
        "colab": {
          "base_uri": "https://localhost:8080/",
          "height": 108
        },
        "outputId": "d603dd36-7e53-421a-852b-5399499e4a64"
      },
      "outputs": [
        {
          "output_type": "error",
          "ename": "SyntaxError",
          "evalue": "invalid syntax (<ipython-input-1-d15cdd2373ae>, line 1)",
          "traceback": [
            "\u001b[0;36m  File \u001b[0;32m\"<ipython-input-1-d15cdd2373ae>\"\u001b[0;36m, line \u001b[0;32m1\u001b[0m\n\u001b[0;31m    1 B\u001b[0m\n\u001b[0m      ^\u001b[0m\n\u001b[0;31mSyntaxError\u001b[0m\u001b[0;31m:\u001b[0m invalid syntax\n"
          ]
        }
      ],
      "source": [
        "1 B\n",
        "2 B\n",
        "3 A\n",
        "4 A\n",
        "5 C\n",
        "6 D\n",
        "7 A\n",
        "8 A\n",
        "9 D\n",
        "10 D\n",
        "11 C\n",
        "12 A\n",
        "13 A\n",
        "14 C\n",
        "15 A\n",
        "16 C\n",
        "17 A //\n",
        "18 C\n",
        "19 A\n",
        "20 B\n",
        "21 B //\n",
        "22 C\n",
        "23 B //\n",
        "24 C\n",
        "25 C\n",
        "26 C\n",
        "27 A\n",
        "28 D\n",
        "29 B\n",
        "30 D\n",
        "31 A\n",
        "32 A//\n",
        "33 C"
      ]
    },
    {
      "cell_type": "code",
      "source": [
        "\n",
        "x = [1,2,3,0]"
      ],
      "metadata": {
        "id": "gK0Je_0RHqzC"
      },
      "execution_count": 8,
      "outputs": []
    },
    {
      "cell_type": "code",
      "source": [
        "print('my ', end = \" \")\n",
        "print ('he')"
      ],
      "metadata": {
        "colab": {
          "base_uri": "https://localhost:8080/"
        },
        "id": "FPO82WHlHsXg",
        "outputId": "e331c92b-17df-48fd-daf8-01268cbc434c"
      },
      "execution_count": 13,
      "outputs": [
        {
          "output_type": "stream",
          "name": "stdout",
          "text": [
            "my \n",
            "he\n"
          ]
        }
      ]
    },
    {
      "cell_type": "code",
      "source": [
        "'elephant'*1 > 'dnt'*100"
      ],
      "metadata": {
        "colab": {
          "base_uri": "https://localhost:8080/"
        },
        "id": "B0nQeZh1HuzA",
        "outputId": "94310796-d738-48b4-8057-6bffe6c55573"
      },
      "execution_count": null,
      "outputs": [
        {
          "output_type": "execute_result",
          "data": {
            "text/plain": [
              "True"
            ]
          },
          "metadata": {},
          "execution_count": 9
        }
      ]
    },
    {
      "cell_type": "code",
      "source": [
        "x = 10/4\n",
        "x"
      ],
      "metadata": {
        "colab": {
          "base_uri": "https://localhost:8080/"
        },
        "id": "BZlBSzazH0_Q",
        "outputId": "bd4a6496-6915-49b0-c4ef-08422a07b40f"
      },
      "execution_count": null,
      "outputs": [
        {
          "output_type": "execute_result",
          "data": {
            "text/plain": [
              "2.5"
            ]
          },
          "metadata": {},
          "execution_count": 10
        }
      ]
    },
    {
      "cell_type": "code",
      "source": [
        "x = ';dfsafsdfasf'\n",
        "y ='+dfefadfa'\n",
        "z = x + y\n",
        "z"
      ],
      "metadata": {
        "colab": {
          "base_uri": "https://localhost:8080/",
          "height": 35
        },
        "id": "YuJ60FEJQ3KY",
        "outputId": "653d26a6-2202-41bc-8322-de01755a15f8"
      },
      "execution_count": null,
      "outputs": [
        {
          "output_type": "execute_result",
          "data": {
            "text/plain": [
              "';dfsafsdfasf+dfefadfa'"
            ],
            "application/vnd.google.colaboratory.intrinsic+json": {
              "type": "string"
            }
          },
          "metadata": {},
          "execution_count": 12
        }
      ]
    },
    {
      "cell_type": "code",
      "source": [
        "z[-3:-1]"
      ],
      "metadata": {
        "colab": {
          "base_uri": "https://localhost:8080/",
          "height": 35
        },
        "id": "8IGiH-3KRELm",
        "outputId": "61586c4e-4d71-421a-9a0e-7ab2eb25422b"
      },
      "execution_count": null,
      "outputs": [
        {
          "output_type": "execute_result",
          "data": {
            "text/plain": [
              "'df'"
            ],
            "application/vnd.google.colaboratory.intrinsic+json": {
              "type": "string"
            }
          },
          "metadata": {},
          "execution_count": 13
        }
      ]
    },
    {
      "cell_type": "code",
      "source": [],
      "metadata": {
        "id": "eX2C1PtYRI4l"
      },
      "execution_count": null,
      "outputs": []
    }
  ]
}