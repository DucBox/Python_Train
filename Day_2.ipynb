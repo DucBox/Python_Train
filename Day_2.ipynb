{
  "nbformat": 4,
  "nbformat_minor": 0,
  "metadata": {
    "colab": {
      "provenance": [],
      "authorship_tag": "ABX9TyNmhq/U81w0wKhpnE5Gvcza",
      "include_colab_link": true
    },
    "kernelspec": {
      "name": "python3",
      "display_name": "Python 3"
    },
    "language_info": {
      "name": "python"
    }
  },
  "cells": [
    {
      "cell_type": "markdown",
      "metadata": {
        "id": "view-in-github",
        "colab_type": "text"
      },
      "source": [
        "<a href=\"https://colab.research.google.com/github/DucBox/Python_Train/blob/main/Day_2.ipynb\" target=\"_parent\"><img src=\"https://colab.research.google.com/assets/colab-badge.svg\" alt=\"Open In Colab\"/></a>"
      ]
    },
    {
      "cell_type": "code",
      "execution_count": 1,
      "metadata": {
        "id": "juMMI7G4w1rM"
      },
      "outputs": [],
      "source": [
        "def quadratic_equation(a,b,c):\n",
        "  x1 = 0\n",
        "  x2 = 0\n",
        "  delta = b**2 - 4*a*c\n",
        "  if delta > 0:\n",
        "    x1 = (-b + delta**0.5)/(2*a)\n",
        "    x2 = (-b - delta**0.5)/(2*a)\n",
        "    print(x1,x2)\n",
        "  elif delta == 0:\n",
        "    x = -b/(2*a)\n",
        "    print('x1 = x2 =', x)\n",
        "  else:\n",
        "    print(\"Vô nghiệm\")\n"
      ]
    },
    {
      "cell_type": "code",
      "source": [
        "quadratic_equation(4,6,3)"
      ],
      "metadata": {
        "colab": {
          "base_uri": "https://localhost:8080/"
        },
        "id": "opkHJ_qExmsb",
        "outputId": "d2348555-ae44-4f9d-b378-677d46d262a6"
      },
      "execution_count": 4,
      "outputs": [
        {
          "output_type": "stream",
          "name": "stdout",
          "text": [
            "Vô nghiệm\n"
          ]
        }
      ]
    }
  ]
}