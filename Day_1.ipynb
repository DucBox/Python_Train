{
  "nbformat": 4,
  "nbformat_minor": 0,
  "metadata": {
    "colab": {
      "provenance": [],
      "authorship_tag": "ABX9TyP83A9mPPKcl+ZPciu1xbOX",
      "include_colab_link": true
    },
    "kernelspec": {
      "name": "python3",
      "display_name": "Python 3"
    },
    "language_info": {
      "name": "python"
    }
  },
  "cells": [
    {
      "cell_type": "markdown",
      "metadata": {
        "id": "view-in-github",
        "colab_type": "text"
      },
      "source": [
        "<a href=\"https://colab.research.google.com/github/DucBox/Python_Train/blob/main/Day_1.ipynb\" target=\"_parent\"><img src=\"https://colab.research.google.com/assets/colab-badge.svg\" alt=\"Open In Colab\"/></a>"
      ]
    },
    {
      "cell_type": "code",
      "execution_count": null,
      "metadata": {
        "id": "SZZCp8lBuAaH"
      },
      "outputs": [],
      "source": [
        "def calculate_can_chi_calender(year):\n",
        "  result=''\n",
        "  List_can = ['Canh', 'Tân','Nhâm', 'Quý', 'Giáp', 'Ất', 'Bính', 'Đinh', 'Mậu', 'Kỉ']\n",
        "  List_chi = ['Thân','Dậu','Tuất','Hợi', 'Tý','Sửu','Dần','Mão','Thìn','Tỵ','Ngọ','Mùi']\n",
        "  result = List_can[year % 10] + ' ' + List_chi[year % 12]\n",
        "  return result"
      ]
    },
    {
      "cell_type": "code",
      "source": [
        "print(calculate_can_chi_calender(2024),calculate_can_chi_calender(2023),calculate_can_chi_calender(1997))"
      ],
      "metadata": {
        "colab": {
          "base_uri": "https://localhost:8080/"
        },
        "id": "ZV8Y58oovuwQ",
        "outputId": "0ed60b13-32b5-4df1-8b94-3d5018ea1dda"
      },
      "execution_count": null,
      "outputs": [
        {
          "output_type": "stream",
          "name": "stdout",
          "text": [
            "Giáp Thìn Quý Mẹo Đinh Sửu\n"
          ]
        }
      ]
    }
  ]
}