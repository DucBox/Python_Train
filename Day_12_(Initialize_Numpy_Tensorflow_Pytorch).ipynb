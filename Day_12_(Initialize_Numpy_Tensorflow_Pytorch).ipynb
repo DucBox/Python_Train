{
  "nbformat": 4,
  "nbformat_minor": 0,
  "metadata": {
    "colab": {
      "provenance": [],
      "authorship_tag": "ABX9TyNyadBSG/HFGM3S/cbTnPv3",
      "include_colab_link": true
    },
    "kernelspec": {
      "name": "python3",
      "display_name": "Python 3"
    },
    "language_info": {
      "name": "python"
    }
  },
  "cells": [
    {
      "cell_type": "markdown",
      "metadata": {
        "id": "view-in-github",
        "colab_type": "text"
      },
      "source": [
        "<a href=\"https://colab.research.google.com/github/DucBox/Python_Train/blob/main/Day_12_(Initialize_Numpy_Tensorflow_Pytorch).ipynb\" target=\"_parent\"><img src=\"https://colab.research.google.com/assets/colab-badge.svg\" alt=\"Open In Colab\"/></a>"
      ]
    },
    {
      "cell_type": "code",
      "execution_count": 1,
      "metadata": {
        "id": "Yh_0O4UbjXFB"
      },
      "outputs": [],
      "source": [
        "import numpy as np\n",
        "import tensorflow as tf\n",
        "import torch"
      ]
    },
    {
      "cell_type": "markdown",
      "source": [
        "# np.zeros(shape)\n",
        "# torch.zeros(shape)\n",
        "# tf.zeros(shape)"
      ],
      "metadata": {
        "id": "pLDn1YbEjuud"
      }
    },
    {
      "cell_type": "code",
      "source": [
        "np_array_zero = np.zeros((2, 3))\n",
        "print(np_array_zero)"
      ],
      "metadata": {
        "colab": {
          "base_uri": "https://localhost:8080/"
        },
        "id": "byiljiDsjkE2",
        "outputId": "4e74a899-0503-42fb-877a-167606b83008"
      },
      "execution_count": 4,
      "outputs": [
        {
          "output_type": "stream",
          "name": "stdout",
          "text": [
            "[[0. 0. 0.]\n",
            " [0. 0. 0.]]\n"
          ]
        }
      ]
    },
    {
      "cell_type": "code",
      "source": [
        "torch_array_zero = torch.zeros((2, 3))\n",
        "print(torch_array_zero)"
      ],
      "metadata": {
        "colab": {
          "base_uri": "https://localhost:8080/"
        },
        "id": "cYnF26Ppj3Eg",
        "outputId": "b9a6531a-2fd9-4c71-b4ba-e6f40c5a5226"
      },
      "execution_count": 9,
      "outputs": [
        {
          "output_type": "stream",
          "name": "stdout",
          "text": [
            "tensor([[0., 0., 0.],\n",
            "        [0., 0., 0.]])\n"
          ]
        }
      ]
    },
    {
      "cell_type": "code",
      "source": [
        "tf_array_zero = tf.zeros((2, 3))\n",
        "print(tf_array_zero)"
      ],
      "metadata": {
        "colab": {
          "base_uri": "https://localhost:8080/"
        },
        "id": "6NFXfKyHkJkf",
        "outputId": "e8e9650a-1f94-4bcc-9820-54aef978bed5"
      },
      "execution_count": 10,
      "outputs": [
        {
          "output_type": "stream",
          "name": "stdout",
          "text": [
            "tf.Tensor(\n",
            "[[0. 0. 0.]\n",
            " [0. 0. 0.]], shape=(2, 3), dtype=float32)\n"
          ]
        }
      ]
    },
    {
      "cell_type": "markdown",
      "source": [
        "# np.ones(shape)\n",
        "# torch.ones(shape)\n",
        "# tf.ones(shape)"
      ],
      "metadata": {
        "id": "V5rgk98xkk0P"
      }
    },
    {
      "cell_type": "code",
      "source": [
        "np_array_ones = np.ones((2, 3))\n",
        "print(np_array_ones)"
      ],
      "metadata": {
        "colab": {
          "base_uri": "https://localhost:8080/"
        },
        "id": "bm-kDYwMkLK9",
        "outputId": "00bdf63d-e375-4aa4-b76b-0aaf8fdd97fc"
      },
      "execution_count": 11,
      "outputs": [
        {
          "output_type": "stream",
          "name": "stdout",
          "text": [
            "[[1. 1. 1.]\n",
            " [1. 1. 1.]]\n"
          ]
        }
      ]
    },
    {
      "cell_type": "code",
      "source": [
        "torch_array_ones = torch.ones((2, 3))\n",
        "print(torch_array_ones)"
      ],
      "metadata": {
        "colab": {
          "base_uri": "https://localhost:8080/"
        },
        "id": "wI1Ba_GUkouS",
        "outputId": "e7686295-dd1e-4b8e-9779-b3f9231025b4"
      },
      "execution_count": 12,
      "outputs": [
        {
          "output_type": "stream",
          "name": "stdout",
          "text": [
            "tensor([[1., 1., 1.],\n",
            "        [1., 1., 1.]])\n"
          ]
        }
      ]
    },
    {
      "cell_type": "code",
      "source": [
        "tf_array_ones = tf.ones((2, 3))\n",
        "print(tf_array_ones)"
      ],
      "metadata": {
        "colab": {
          "base_uri": "https://localhost:8080/"
        },
        "id": "SE-eBT07kp5_",
        "outputId": "8166b877-77ea-47e1-cbb1-e5c395e0a42b"
      },
      "execution_count": 13,
      "outputs": [
        {
          "output_type": "stream",
          "name": "stdout",
          "text": [
            "tf.Tensor(\n",
            "[[1. 1. 1.]\n",
            " [1. 1. 1.]], shape=(2, 3), dtype=float32)\n"
          ]
        }
      ]
    },
    {
      "cell_type": "markdown",
      "source": [
        "# np.full(shape, value)\n",
        "# torch.full(shape, value)\n",
        "# tf.fill(shape, value)"
      ],
      "metadata": {
        "id": "dWIAEiXtkvnI"
      }
    },
    {
      "cell_type": "code",
      "source": [
        "np_full = np.full((2, 3), 5)\n",
        "print(np_full)"
      ],
      "metadata": {
        "colab": {
          "base_uri": "https://localhost:8080/"
        },
        "id": "XYbtdEnRkr6G",
        "outputId": "7343dd51-1653-4a79-dd40-008d1b8a692e"
      },
      "execution_count": 14,
      "outputs": [
        {
          "output_type": "stream",
          "name": "stdout",
          "text": [
            "[[5 5 5]\n",
            " [5 5 5]]\n"
          ]
        }
      ]
    },
    {
      "cell_type": "code",
      "source": [
        "torch_full = torch.full((2, 3), 5)\n",
        "print(torch_full)"
      ],
      "metadata": {
        "colab": {
          "base_uri": "https://localhost:8080/"
        },
        "id": "Ow0QZB6Gk2O_",
        "outputId": "d8de42ef-d66f-48b1-9283-834f8e64f8f4"
      },
      "execution_count": 15,
      "outputs": [
        {
          "output_type": "stream",
          "name": "stdout",
          "text": [
            "tensor([[5, 5, 5],\n",
            "        [5, 5, 5]])\n"
          ]
        }
      ]
    },
    {
      "cell_type": "code",
      "source": [
        "tf_full = tf.fill((2, 3), 5)\n",
        "print(tf_full)"
      ],
      "metadata": {
        "colab": {
          "base_uri": "https://localhost:8080/"
        },
        "id": "J3vCfb4Yk4Sd",
        "outputId": "94198605-a32a-4365-e44a-6ba07fff8b6f"
      },
      "execution_count": 16,
      "outputs": [
        {
          "output_type": "stream",
          "name": "stdout",
          "text": [
            "tf.Tensor(\n",
            "[[5 5 5]\n",
            " [5 5 5]], shape=(2, 3), dtype=int32)\n"
          ]
        }
      ]
    },
    {
      "cell_type": "code",
      "source": [],
      "metadata": {
        "id": "oXryE4FPk5F-"
      },
      "execution_count": null,
      "outputs": []
    }
  ]
}