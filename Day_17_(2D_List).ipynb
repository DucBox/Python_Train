{
  "nbformat": 4,
  "nbformat_minor": 0,
  "metadata": {
    "colab": {
      "provenance": [],
      "authorship_tag": "ABX9TyOoep3yNFXcxTSHXWL9+0lD",
      "include_colab_link": true
    },
    "kernelspec": {
      "name": "python3",
      "display_name": "Python 3"
    },
    "language_info": {
      "name": "python"
    }
  },
  "cells": [
    {
      "cell_type": "markdown",
      "metadata": {
        "id": "view-in-github",
        "colab_type": "text"
      },
      "source": [
        "<a href=\"https://colab.research.google.com/github/DucBox/Python_Train/blob/main/Day_17_(2D_List).ipynb\" target=\"_parent\"><img src=\"https://colab.research.google.com/assets/colab-badge.svg\" alt=\"Open In Colab\"/></a>"
      ]
    },
    {
      "cell_type": "code",
      "execution_count": 3,
      "metadata": {
        "id": "mbOgdUDD6gRC"
      },
      "outputs": [],
      "source": [
        "list_2D =[\n",
        "    [1,2,3],\n",
        "    [4,5,6],\n",
        "    [7,8,9]\n",
        "]"
      ]
    },
    {
      "cell_type": "code",
      "source": [
        "sub_list = []"
      ],
      "metadata": {
        "id": "UyhbPN6W7PjT"
      },
      "execution_count": 12,
      "outputs": []
    },
    {
      "cell_type": "code",
      "source": [
        "for i in range(len(list_2D)):\n",
        "  sub_row = [list_2D[i][0], list_2D[i][2]]\n",
        "  sub_list.append(sub_row)"
      ],
      "metadata": {
        "id": "jHJbtQem6t7i"
      },
      "execution_count": 14,
      "outputs": []
    },
    {
      "cell_type": "code",
      "source": [
        "sub_list"
      ],
      "metadata": {
        "colab": {
          "base_uri": "https://localhost:8080/"
        },
        "id": "SVGs9Bs27UOz",
        "outputId": "84b5bf24-ad5a-4d67-fdc4-a272b5182542"
      },
      "execution_count": 15,
      "outputs": [
        {
          "output_type": "execute_result",
          "data": {
            "text/plain": [
              "[[1, 3], [4, 6], [7, 9]]"
            ]
          },
          "metadata": {},
          "execution_count": 15
        }
      ]
    }
  ]
}