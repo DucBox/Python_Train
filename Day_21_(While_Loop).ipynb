{
  "nbformat": 4,
  "nbformat_minor": 0,
  "metadata": {
    "colab": {
      "provenance": [],
      "authorship_tag": "ABX9TyPPhLllf1BM1PpN8hf5q3bU",
      "include_colab_link": true
    },
    "kernelspec": {
      "name": "python3",
      "display_name": "Python 3"
    },
    "language_info": {
      "name": "python"
    }
  },
  "cells": [
    {
      "cell_type": "markdown",
      "metadata": {
        "id": "view-in-github",
        "colab_type": "text"
      },
      "source": [
        "<a href=\"https://colab.research.google.com/github/DucBox/Python_Train/blob/main/Day_21_(While_Loop).ipynb\" target=\"_parent\"><img src=\"https://colab.research.google.com/assets/colab-badge.svg\" alt=\"Open In Colab\"/></a>"
      ]
    },
    {
      "cell_type": "code",
      "execution_count": 1,
      "metadata": {
        "id": "ePCFaPLNCcM4"
      },
      "outputs": [],
      "source": [
        "import random"
      ]
    },
    {
      "cell_type": "code",
      "source": [
        "def random_number_with_condition(total):\n",
        "  random.seed(0)\n",
        "  sum = 0\n",
        "  count = 0\n",
        "  while(sum != total):\n",
        "    a = random.randint(1,20)\n",
        "    b = random.randint(1,20)\n",
        "    sum = a + b\n",
        "    count += 1\n",
        "  print(count)"
      ],
      "metadata": {
        "id": "MSk3jg-BCop3"
      },
      "execution_count": 9,
      "outputs": []
    },
    {
      "cell_type": "code",
      "source": [
        "random_number_with_condition(20)"
      ],
      "metadata": {
        "colab": {
          "base_uri": "https://localhost:8080/"
        },
        "id": "NAsEj7uaCvA_",
        "outputId": "01f029c9-8df1-4f4f-e05f-14cd380364be"
      },
      "execution_count": 10,
      "outputs": [
        {
          "output_type": "stream",
          "name": "stdout",
          "text": [
            "32\n"
          ]
        }
      ]
    }
  ]
}