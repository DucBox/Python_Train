{
  "nbformat": 4,
  "nbformat_minor": 0,
  "metadata": {
    "colab": {
      "provenance": [],
      "authorship_tag": "ABX9TyOBMrXWq9omY9A3P+tZKL80",
      "include_colab_link": true
    },
    "kernelspec": {
      "name": "python3",
      "display_name": "Python 3"
    },
    "language_info": {
      "name": "python"
    }
  },
  "cells": [
    {
      "cell_type": "markdown",
      "metadata": {
        "id": "view-in-github",
        "colab_type": "text"
      },
      "source": [
        "<a href=\"https://colab.research.google.com/github/DucBox/Python_Train/blob/main/Day_6_(if_else_dictionary_switch_case).ipynb\" target=\"_parent\"><img src=\"https://colab.research.google.com/assets/colab-badge.svg\" alt=\"Open In Colab\"/></a>"
      ]
    },
    {
      "cell_type": "code",
      "execution_count": 2,
      "metadata": {
        "colab": {
          "base_uri": "https://localhost:8080/"
        },
        "id": "K_VggYWuNi8i",
        "outputId": "643a34df-9861-46ab-9374-e434885c9ffa"
      },
      "outputs": [
        {
          "name": "stdout",
          "output_type": "stream",
          "text": [
            "What time is it? 5 AM\n"
          ]
        }
      ],
      "source": [
        "time = input(\"What time is it? \")"
      ]
    },
    {
      "cell_type": "markdown",
      "source": [
        "#IF ELSE CONDITION"
      ],
      "metadata": {
        "id": "mw1Fk0ESN-EW"
      }
    },
    {
      "cell_type": "code",
      "source": [
        "if time == '5 AM':\n",
        "  print('Wake up')\n",
        "elif time == '6 AM':\n",
        "  print('Do exercise')\n",
        "else:\n",
        "  print('Do nothing')"
      ],
      "metadata": {
        "colab": {
          "base_uri": "https://localhost:8080/"
        },
        "id": "ntp_ehs6NsOe",
        "outputId": "33aa8698-ecd4-4c8d-de38-eb5ea7932a16"
      },
      "execution_count": 3,
      "outputs": [
        {
          "output_type": "stream",
          "name": "stdout",
          "text": [
            "Wake up\n"
          ]
        }
      ]
    },
    {
      "cell_type": "markdown",
      "source": [
        "#USING DICTIONARY\n",
        "\n",
        "name_dict.get(key, defaul = None)\n",
        "with params: key = input variable and defult = default returned value\n",
        "\n"
      ],
      "metadata": {
        "id": "eAYRHwBHOA_4"
      }
    },
    {
      "cell_type": "code",
      "source": [
        "My_schedule ={'5 AM': 'Wake up', '6 AM': 'Do exercise'}"
      ],
      "metadata": {
        "id": "qC1YT6GdOAWT"
      },
      "execution_count": 6,
      "outputs": []
    },
    {
      "cell_type": "code",
      "source": [
        "My_schedule.get(time, 'Do nothing')"
      ],
      "metadata": {
        "colab": {
          "base_uri": "https://localhost:8080/",
          "height": 35
        },
        "id": "HX2No7FLN8Xz",
        "outputId": "f5858893-a5bf-45e7-f6ab-fdab5b05ee2c"
      },
      "execution_count": 7,
      "outputs": [
        {
          "output_type": "execute_result",
          "data": {
            "text/plain": [
              "'Wake up'"
            ],
            "application/vnd.google.colaboratory.intrinsic+json": {
              "type": "string"
            }
          },
          "metadata": {},
          "execution_count": 7
        }
      ]
    },
    {
      "cell_type": "markdown",
      "source": [
        "#SWITCH CASE\n",
        "\n",
        "---\n",
        "\n",
        "match expression:\n",
        "  case value 1:\n",
        "    do sth 1\n",
        "  case value 2:\n",
        "    do sth 2\n",
        "  ...\n",
        "  case value n:\n",
        "    do sth n\n",
        "  case_: <= default case\n",
        "    do nothing"
      ],
      "metadata": {
        "id": "eqv1V-aVOxGp"
      }
    },
    {
      "cell_type": "code",
      "source": [
        "match time:\n",
        "  case '5 AM':\n",
        "    print('Wake up')\n",
        "  case '6 AM':\n",
        "    print('Do exercise')\n",
        "  case _:\n",
        "    print('Do nothing')"
      ],
      "metadata": {
        "colab": {
          "base_uri": "https://localhost:8080/"
        },
        "id": "7phWj9wYOyci",
        "outputId": "c3ab938b-6ae1-436d-ea46-455b3440e8f5"
      },
      "execution_count": 8,
      "outputs": [
        {
          "output_type": "stream",
          "name": "stdout",
          "text": [
            "Wake up\n"
          ]
        }
      ]
    }
  ]
}