{
  "nbformat": 4,
  "nbformat_minor": 0,
  "metadata": {
    "colab": {
      "provenance": [],
      "authorship_tag": "ABX9TyPqzNeRg/DMokz+8YxQeqHE",
      "include_colab_link": true
    },
    "kernelspec": {
      "name": "python3",
      "display_name": "Python 3"
    },
    "language_info": {
      "name": "python"
    }
  },
  "cells": [
    {
      "cell_type": "markdown",
      "metadata": {
        "id": "view-in-github",
        "colab_type": "text"
      },
      "source": [
        "<a href=\"https://colab.research.google.com/github/DucBox/Python_Train/blob/main/Day_8_(Enumerate_Fuction).ipynb\" target=\"_parent\"><img src=\"https://colab.research.google.com/assets/colab-badge.svg\" alt=\"Open In Colab\"/></a>"
      ]
    },
    {
      "cell_type": "code",
      "execution_count": 1,
      "metadata": {
        "id": "YMoPWYp_SwJE"
      },
      "outputs": [],
      "source": [
        "shopping_list = ['Apple', 'Battery', 'Milk']"
      ]
    },
    {
      "cell_type": "code",
      "source": [
        "for i in range(len(shopping_list)):\n",
        "    print(f'{i+1}: {shopping_list[i]}')"
      ],
      "metadata": {
        "colab": {
          "base_uri": "https://localhost:8080/"
        },
        "id": "vA_ua-aCTWag",
        "outputId": "1585b7ad-9d16-41e7-9ed2-d13e2378255e"
      },
      "execution_count": 2,
      "outputs": [
        {
          "output_type": "stream",
          "name": "stdout",
          "text": [
            "1: Apple\n",
            "2: Battery\n",
            "3: Milk\n"
          ]
        }
      ]
    },
    {
      "cell_type": "markdown",
      "source": [
        "#Enumerate\n",
        "\n",
        "Syntax: enumerate(iterable, start = 0) with params iterable: list, tuple, string,..."
      ],
      "metadata": {
        "id": "-rG9qZq3TeX8"
      }
    },
    {
      "cell_type": "code",
      "source": [
        "for index, name in enumerate(shopping_list, start = 0):\n",
        "    print(f'{index+1}: {name}')"
      ],
      "metadata": {
        "colab": {
          "base_uri": "https://localhost:8080/"
        },
        "id": "8kRZx0zETbVx",
        "outputId": "1b295a86-583e-4f88-8944-898c24be77ea"
      },
      "execution_count": 3,
      "outputs": [
        {
          "output_type": "stream",
          "name": "stdout",
          "text": [
            "1: Apple\n",
            "2: Battery\n",
            "3: Milk\n"
          ]
        }
      ]
    },
    {
      "cell_type": "code",
      "source": [
        "food_list = [['Bơ','Pizza','Sữa'],['Xúc xích','Táo','Kem'],['Cà rốt','Bánh dâu','Cupcake']]"
      ],
      "metadata": {
        "id": "hjc2y50_Twek"
      },
      "execution_count": 7,
      "outputs": []
    },
    {
      "cell_type": "code",
      "source": [
        "search_items = ['Cà rốt','Táo','Sữa']"
      ],
      "metadata": {
        "id": "BaAkp0DYT_-7"
      },
      "execution_count": 5,
      "outputs": []
    },
    {
      "cell_type": "markdown",
      "source": [
        "Food list gồm 9 giá trị tạo thành ma trận 3x3. Hãy tìm vị trí của các item trong search_items\n"
      ],
      "metadata": {
        "id": "HXbobk2SUG65"
      }
    },
    {
      "cell_type": "code",
      "source": [
        "for i,row in enumerate(food_list, start = 1):\n",
        "  # print(f'row {i}: {row}')\n",
        "  for j, item in enumerate(row, start = 1):\n",
        "    if item in search_items:\n",
        "      print(f'Item {item} found at row {i} and column {j}')"
      ],
      "metadata": {
        "colab": {
          "base_uri": "https://localhost:8080/"
        },
        "id": "WU3HtpFqUOaD",
        "outputId": "13f75184-f626-4367-fb35-b099692a881b"
      },
      "execution_count": 11,
      "outputs": [
        {
          "output_type": "stream",
          "name": "stdout",
          "text": [
            "Item Sữa found at row 1 and column 3\n",
            "Item Táo found at row 2 and column 2\n",
            "Item Cà rốt found at row 3 and column 1\n"
          ]
        }
      ]
    },
    {
      "cell_type": "code",
      "source": [],
      "metadata": {
        "id": "mR11xtR8UoLp"
      },
      "execution_count": null,
      "outputs": []
    }
  ]
}