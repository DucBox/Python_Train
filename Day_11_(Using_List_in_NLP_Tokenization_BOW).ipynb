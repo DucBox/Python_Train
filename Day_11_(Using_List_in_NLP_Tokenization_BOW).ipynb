{
  "nbformat": 4,
  "nbformat_minor": 0,
  "metadata": {
    "colab": {
      "provenance": [],
      "authorship_tag": "ABX9TyMUzy/TNpdmP74KM62sEgtv",
      "include_colab_link": true
    },
    "kernelspec": {
      "name": "python3",
      "display_name": "Python 3"
    },
    "language_info": {
      "name": "python"
    }
  },
  "cells": [
    {
      "cell_type": "markdown",
      "metadata": {
        "id": "view-in-github",
        "colab_type": "text"
      },
      "source": [
        "<a href=\"https://colab.research.google.com/github/DucBox/Python_Train/blob/main/Day_11_(Using_List_in_NLP_Tokenization_BOW).ipynb\" target=\"_parent\"><img src=\"https://colab.research.google.com/assets/colab-badge.svg\" alt=\"Open In Colab\"/></a>"
      ]
    },
    {
      "cell_type": "code",
      "execution_count": 1,
      "metadata": {
        "id": "f48dMOA3c27w"
      },
      "outputs": [],
      "source": [
        "corpus = ['Tôi thích môn Toán','Tôi thích âm nhạc','Tôi thích AI']"
      ]
    },
    {
      "cell_type": "code",
      "source": [
        "vocab = []\n",
        "for doc in corpus:\n",
        "    for word in doc.split():\n",
        "        if word not in vocab:\n",
        "            vocab.append(word)"
      ],
      "metadata": {
        "id": "DbEXjMS1guxd"
      },
      "execution_count": 2,
      "outputs": []
    },
    {
      "cell_type": "code",
      "source": [
        "print(vocab)"
      ],
      "metadata": {
        "colab": {
          "base_uri": "https://localhost:8080/"
        },
        "id": "-N2jjnoBg1ez",
        "outputId": "95db3aeb-52b9-4c1a-b268-09ae5c78527b"
      },
      "execution_count": 3,
      "outputs": [
        {
          "output_type": "stream",
          "name": "stdout",
          "text": [
            "['Tôi', 'thích', 'môn', 'Toán', 'âm', 'nhạc', 'AI']\n"
          ]
        }
      ]
    },
    {
      "cell_type": "code",
      "source": [
        "sentence = 'Tôi thích AI thích Toán'\n",
        "vector_word = []\n",
        "for word in vocab:\n",
        "  frequency = 0\n",
        "  for word_l in sentence.split():\n",
        "    if word == word_l:\n",
        "      frequency+=1\n",
        "  vector_word.append(frequency)\n",
        "print(vector_word)"
      ],
      "metadata": {
        "colab": {
          "base_uri": "https://localhost:8080/"
        },
        "id": "tn6CjS4Bg8pO",
        "outputId": "334f43ed-c59f-4fd0-9129-9c00befe2d3d"
      },
      "execution_count": 12,
      "outputs": [
        {
          "output_type": "stream",
          "name": "stdout",
          "text": [
            "[1, 2, 0, 1, 0, 0, 1]\n"
          ]
        }
      ]
    },
    {
      "cell_type": "code",
      "source": [],
      "metadata": {
        "id": "FD046mJ7i95X"
      },
      "execution_count": null,
      "outputs": []
    }
  ]
}