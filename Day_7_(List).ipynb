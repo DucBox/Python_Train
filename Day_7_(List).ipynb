{
  "nbformat": 4,
  "nbformat_minor": 0,
  "metadata": {
    "colab": {
      "provenance": [],
      "authorship_tag": "ABX9TyNrXqRfVcBOSFRvROzTgHuJ",
      "include_colab_link": true
    },
    "kernelspec": {
      "name": "python3",
      "display_name": "Python 3"
    },
    "language_info": {
      "name": "python"
    }
  },
  "cells": [
    {
      "cell_type": "markdown",
      "metadata": {
        "id": "view-in-github",
        "colab_type": "text"
      },
      "source": [
        "<a href=\"https://colab.research.google.com/github/DucBox/Python_Train/blob/main/Day_7_(List).ipynb\" target=\"_parent\"><img src=\"https://colab.research.google.com/assets/colab-badge.svg\" alt=\"Open In Colab\"/></a>"
      ]
    },
    {
      "cell_type": "code",
      "execution_count": 27,
      "metadata": {
        "colab": {
          "base_uri": "https://localhost:8080/"
        },
        "id": "yneS3NVVPwC1",
        "outputId": "4fb30f7b-3a5c-408b-b295-753dfbc2396f"
      },
      "outputs": [
        {
          "output_type": "stream",
          "name": "stdout",
          "text": [
            "[2, 4, 6, 8, 10, 12]\n"
          ]
        }
      ],
      "source": [
        "lst_data = []\n",
        "for i in range(1,13):\n",
        "  if i % 2 == 0:\n",
        "    lst_data.append(i)\n",
        "print(lst_data)"
      ]
    },
    {
      "cell_type": "code",
      "source": [
        "for i in range(len(lst_data)):\n",
        "  if (lst_data[i] % 3 == 0):\n",
        "    lst_data.pop(i)\n",
        "print(lst_data)"
      ],
      "metadata": {
        "colab": {
          "base_uri": "https://localhost:8080/"
        },
        "id": "SSbbLy77QCyR",
        "outputId": "98993690-afb2-4fcb-91c1-659866f20da8"
      },
      "execution_count": 29,
      "outputs": [
        {
          "output_type": "stream",
          "name": "stdout",
          "text": [
            "[2, 4, 8, 10]\n"
          ]
        }
      ]
    },
    {
      "cell_type": "code",
      "source": [
        "for i in range (1,4):\n",
        "  lst_data.append(i)\n",
        "print(lst_data)"
      ],
      "metadata": {
        "colab": {
          "base_uri": "https://localhost:8080/"
        },
        "id": "EVnWOHnjQpOr",
        "outputId": "c823866d-1c08-4696-8bb4-282c4b4207d4"
      },
      "execution_count": 30,
      "outputs": [
        {
          "output_type": "stream",
          "name": "stdout",
          "text": [
            "[2, 4, 8, 10, 1, 2, 3]\n"
          ]
        }
      ]
    },
    {
      "cell_type": "code",
      "source": [
        "lst_data[3:3] = [6,7,8]"
      ],
      "metadata": {
        "id": "Skiry1Z-RS0X"
      },
      "execution_count": 31,
      "outputs": []
    },
    {
      "cell_type": "code",
      "source": [
        "print(lst_data)"
      ],
      "metadata": {
        "colab": {
          "base_uri": "https://localhost:8080/"
        },
        "id": "AGaEuB8vSRv0",
        "outputId": "febca012-e7f6-43bc-af78-1b91b8d7afd3"
      },
      "execution_count": 32,
      "outputs": [
        {
          "output_type": "stream",
          "name": "stdout",
          "text": [
            "[2, 4, 8, 6, 7, 8, 10, 1, 2, 3]\n"
          ]
        }
      ]
    },
    {
      "cell_type": "code",
      "source": [
        "for i in (lst_data):\n",
        "  if i % 3 == 0 or i % 5 == 0:\n",
        "    lst_data.remove(i)\n",
        "print(lst_data)"
      ],
      "metadata": {
        "colab": {
          "base_uri": "https://localhost:8080/"
        },
        "id": "GeqWfW7ZSTCo",
        "outputId": "e44196da-8615-4ec9-ec5f-6161d32d0b9a"
      },
      "execution_count": 33,
      "outputs": [
        {
          "output_type": "stream",
          "name": "stdout",
          "text": [
            "[2, 4, 8, 7, 8, 1, 2]\n"
          ]
        }
      ]
    }
  ]
}